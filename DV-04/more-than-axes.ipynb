{
 "cells": [
  {
   "cell_type": "code",
   "execution_count": 1,
   "metadata": {},
   "outputs": [],
   "source": [
    "import numpy as np\n",
    "x = np.random.randn(10000)\n",
    "\n",
    "from matplotlib.backends.backend_agg import FigureCanvasAgg as FigureCanvas\n",
    "from matplotlib.figure import Figure\n",
    "fig = Figure()\n",
    "canvas = FigureCanvas(fig)\n",
    "\n",
    "ax1 = fig.add_subplot(321)\n",
    "ax1.hist(x, 10)\n",
    "ax1.set_title('10 bins')\n",
    "\n",
    "ax2 = fig.add_subplot(324)\n",
    "ax2.hist(x, 40)\n",
    "ax2.set_title('40 bins')\n",
    "\n",
    "ax3 = fig.add_subplot(3,4,10)\n",
    "ax3.hist(x, 70)\n",
    "ax3.set_title('70 bins')\n",
    "\n",
    "fig.savefig('3-axes.png')"
   ]
  },
  {
   "cell_type": "code",
   "execution_count": 2,
   "metadata": {},
   "outputs": [],
   "source": [
    "import numpy as np\n",
    "x = np.random.randn(10000)\n",
    "\n",
    "from matplotlib.backends.backend_agg import FigureCanvasAgg as FigureCanvas\n",
    "from matplotlib.figure import Figure\n",
    "fig = Figure()\n",
    "canvas = FigureCanvas(fig)\n",
    "gs = fig.add_gridspec(3, 3)\n",
    "\n",
    "ax1 = fig.add_subplot(gs[0, 0])\n",
    "ax1.hist(x, 10)\n",
    "ax1.set_title('10 bins')\n",
    "\n",
    "ax2 = fig.add_subplot(gs[0, 2])\n",
    "ax2.hist(x, 40)\n",
    "ax2.set_title('40 bins')\n",
    "\n",
    "ax3 = fig.add_subplot(gs[2, 2])\n",
    "ax3.hist(x, 70)\n",
    "ax3.set_title('70 bins')\n",
    "\n",
    "ax4 = fig.add_subplot(gs[2, 0])\n",
    "ax4.hist(x, 100)\n",
    "ax4.set_title('100 bins')\n",
    "\n",
    "fig.savefig('4-axes.png')"
   ]
  },
  {
   "cell_type": "code",
   "execution_count": 3,
   "metadata": {},
   "outputs": [],
   "source": [
    "import numpy as np\n",
    "x = np.random.randn(10000)\n",
    "\n",
    "from matplotlib.backends.backend_agg import FigureCanvasAgg as FigureCanvas\n",
    "from matplotlib.figure import Figure\n",
    "fig = Figure()\n",
    "canvas = FigureCanvas(fig)\n",
    "gs = fig.add_gridspec(3, 2)\n",
    "\n",
    "ax1 = fig.add_subplot(gs[0, 0])\n",
    "ax1.hist(x, 100)\n",
    "ax1.set_title('100 bins')\n",
    "\n",
    "ax2 = fig.add_subplot(gs[2, 0])\n",
    "ax2.hist(x, 10)\n",
    "ax2.set_title('10 bins')\n",
    "\n",
    "fig.savefig('2-axes.png')"
   ]
  }
 ],
 "metadata": {
  "kernelspec": {
   "display_name": "Python 3",
   "language": "python",
   "name": "python3"
  },
  "language_info": {
   "codemirror_mode": {
    "name": "ipython",
    "version": 3
   },
   "file_extension": ".py",
   "mimetype": "text/x-python",
   "name": "python",
   "nbconvert_exporter": "python",
   "pygments_lexer": "ipython3",
   "version": "3.8.5"
  }
 },
 "nbformat": 4,
 "nbformat_minor": 4
}
