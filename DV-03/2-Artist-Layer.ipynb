{
 "cells": [
  {
   "cell_type": "code",
   "execution_count": 1,
   "metadata": {},
   "outputs": [],
   "source": [
    "from matplotlib.backends.backend_agg import FigureCanvasAgg as FigureCanvas\n",
    "from matplotlib.figure import Figure\n",
    "import numpy as np\n",
    "\n",
    "x = np.random.randn(10000)\n",
    "\n",
    "fig = Figure()\t\t\t\t#Create Figure Artist\n",
    "canvas = FigureCanvas(fig)\t#Create FigureCanvas and attach Figure Artist to it\n",
    "ax = fig.add_subplot(111)\t#Create Axes Artist\n",
    "ax.hist(x, 100)\t\t\t\t#Call hist method to generate the histogram\n",
    "ax.set_title('Figure 4')\n",
    "fig.savefig('hist4.png')"
   ]
  },
  {
   "cell_type": "code",
   "execution_count": null,
   "metadata": {},
   "outputs": [],
   "source": []
  }
 ],
 "metadata": {
  "kernelspec": {
   "display_name": "Python 3",
   "language": "python",
   "name": "python3"
  },
  "language_info": {
   "codemirror_mode": {
    "name": "ipython",
    "version": 3
   },
   "file_extension": ".py",
   "mimetype": "text/x-python",
   "name": "python",
   "nbconvert_exporter": "python",
   "pygments_lexer": "ipython3",
   "version": "3.8.5"
  }
 },
 "nbformat": 4,
 "nbformat_minor": 4
}
